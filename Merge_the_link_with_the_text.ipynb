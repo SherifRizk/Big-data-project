{
 "cells": [
  {
   "cell_type": "code",
   "execution_count": 1,
   "id": "f3ba97a4",
   "metadata": {},
   "outputs": [],
   "source": [
    "import pandas as pd "
   ]
  },
  {
   "cell_type": "code",
   "execution_count": 2,
   "id": "63de8fa7",
   "metadata": {},
   "outputs": [],
   "source": [
    "df = pd.read_excel('1.xlsx')"
   ]
  },
  {
   "cell_type": "code",
   "execution_count": 3,
   "id": "4ca37dc5",
   "metadata": {},
   "outputs": [
    {
     "data": {
      "text/html": [
       "<div>\n",
       "<style scoped>\n",
       "    .dataframe tbody tr th:only-of-type {\n",
       "        vertical-align: middle;\n",
       "    }\n",
       "\n",
       "    .dataframe tbody tr th {\n",
       "        vertical-align: top;\n",
       "    }\n",
       "\n",
       "    .dataframe thead th {\n",
       "        text-align: right;\n",
       "    }\n",
       "</style>\n",
       "<table border=\"1\" class=\"dataframe\">\n",
       "  <thead>\n",
       "    <tr style=\"text-align: right;\">\n",
       "      <th></th>\n",
       "      <th>url</th>\n",
       "    </tr>\n",
       "  </thead>\n",
       "  <tbody>\n",
       "    <tr>\n",
       "      <th>0</th>\n",
       "      <td>https://www.forwomeninscience.com/</td>\n",
       "    </tr>\n",
       "    <tr>\n",
       "      <th>1</th>\n",
       "      <td>https://www.forwomeninscience.com/authority/in...</td>\n",
       "    </tr>\n",
       "    <tr>\n",
       "      <th>2</th>\n",
       "      <td>https://www.forwomeninscience.com/map/</td>\n",
       "    </tr>\n",
       "    <tr>\n",
       "      <th>3</th>\n",
       "      <td>https://www.forwomeninscience.com/authority/fo...</td>\n",
       "    </tr>\n",
       "    <tr>\n",
       "      <th>4</th>\n",
       "      <td>https://www.forwomeninscience.com/login</td>\n",
       "    </tr>\n",
       "  </tbody>\n",
       "</table>\n",
       "</div>"
      ],
      "text/plain": [
       "                                                 url\n",
       "0                 https://www.forwomeninscience.com/\n",
       "1  https://www.forwomeninscience.com/authority/in...\n",
       "2             https://www.forwomeninscience.com/map/\n",
       "3  https://www.forwomeninscience.com/authority/fo...\n",
       "4            https://www.forwomeninscience.com/login"
      ]
     },
     "execution_count": 3,
     "metadata": {},
     "output_type": "execute_result"
    }
   ],
   "source": [
    "df.head()"
   ]
  },
  {
   "cell_type": "code",
   "execution_count": 13,
   "id": "abb279fe",
   "metadata": {},
   "outputs": [],
   "source": [
    "word_num = []\n",
    "words = 0\n",
    "text=[]"
   ]
  },
  {
   "cell_type": "code",
   "execution_count": 5,
   "id": "52c816fa",
   "metadata": {},
   "outputs": [],
   "source": [
    "for i in range(1,29293):\n",
    "    file = open(r\"C:\\Users\\Sherif\\Desktop\\Big_data\\part1\\url_{}.txt\".format(i),'r',encoding=\"utf-8\")\n",
    "    my = file.read()\n",
    "    text.append(my.strip())"
   ]
  },
  {
   "cell_type": "code",
   "execution_count": 7,
   "id": "04bb2136",
   "metadata": {},
   "outputs": [],
   "source": [
    "df['texts'] = text"
   ]
  },
  {
   "cell_type": "code",
   "execution_count": 9,
   "id": "5d2109ab",
   "metadata": {},
   "outputs": [
    {
     "data": {
      "text/html": [
       "<div>\n",
       "<style scoped>\n",
       "    .dataframe tbody tr th:only-of-type {\n",
       "        vertical-align: middle;\n",
       "    }\n",
       "\n",
       "    .dataframe tbody tr th {\n",
       "        vertical-align: top;\n",
       "    }\n",
       "\n",
       "    .dataframe thead th {\n",
       "        text-align: right;\n",
       "    }\n",
       "</style>\n",
       "<table border=\"1\" class=\"dataframe\">\n",
       "  <thead>\n",
       "    <tr style=\"text-align: right;\">\n",
       "      <th></th>\n",
       "      <th>url</th>\n",
       "      <th>texts</th>\n",
       "    </tr>\n",
       "  </thead>\n",
       "  <tbody>\n",
       "    <tr>\n",
       "      <th>0</th>\n",
       "      <td>https://www.forwomeninscience.com/</td>\n",
       "      <td>For Women in Science International Awards Nati...</td>\n",
       "    </tr>\n",
       "    <tr>\n",
       "      <th>1</th>\n",
       "      <td>https://www.forwomeninscience.com/authority/in...</td>\n",
       "      <td>International Awards | For Women in Science In...</td>\n",
       "    </tr>\n",
       "    <tr>\n",
       "      <th>2</th>\n",
       "      <td>https://www.forwomeninscience.com/map/</td>\n",
       "      <td>National and regional programs | For Women in ...</td>\n",
       "    </tr>\n",
       "    <tr>\n",
       "      <th>3</th>\n",
       "      <td>https://www.forwomeninscience.com/authority/fo...</td>\n",
       "      <td>For Girls in Science | For Women in Science In...</td>\n",
       "    </tr>\n",
       "    <tr>\n",
       "      <th>4</th>\n",
       "      <td>https://www.forwomeninscience.com/login</td>\n",
       "      <td>For Women in Science International Awards Nati...</td>\n",
       "    </tr>\n",
       "  </tbody>\n",
       "</table>\n",
       "</div>"
      ],
      "text/plain": [
       "                                                 url  \\\n",
       "0                 https://www.forwomeninscience.com/   \n",
       "1  https://www.forwomeninscience.com/authority/in...   \n",
       "2             https://www.forwomeninscience.com/map/   \n",
       "3  https://www.forwomeninscience.com/authority/fo...   \n",
       "4            https://www.forwomeninscience.com/login   \n",
       "\n",
       "                                               texts  \n",
       "0  For Women in Science International Awards Nati...  \n",
       "1  International Awards | For Women in Science In...  \n",
       "2  National and regional programs | For Women in ...  \n",
       "3  For Girls in Science | For Women in Science In...  \n",
       "4  For Women in Science International Awards Nati...  "
      ]
     },
     "execution_count": 9,
     "metadata": {},
     "output_type": "execute_result"
    }
   ],
   "source": [
    "# Show 5 rows of data\n",
    "df.head()"
   ]
  },
  {
   "cell_type": "code",
   "execution_count": 10,
   "id": "19fd4460",
   "metadata": {},
   "outputs": [
    {
     "data": {
      "text/plain": [
       "\"Open Open FI EN Our Pedagogy For educators Pre-K & Nurseries Primary Schools\\nTeaching Remotely Pricing News About us Log in Looks like you're lost in\\nSupraland! It looks like we can't find your content. Sorry, we'll sort it out.\\nTry going back, or to a different page for now. decor decor Kide Science\\ninfo@kidescience.com +358 44 019 0535Ruoholahdenkatu 8, 5th floor00180\\nHelsinki, Finland facebook twitter linkedin YouTube Instagram WeChat Copyright\\n© 2020Kide Science®Y: 2869507-8沪ICP备15005341号-5 Privacy policy\""
      ]
     },
     "execution_count": 10,
     "metadata": {},
     "output_type": "execute_result"
    }
   ],
   "source": [
    "text[20]"
   ]
  },
  {
   "cell_type": "code",
   "execution_count": 11,
   "id": "8839a2f2",
   "metadata": {},
   "outputs": [
    {
     "data": {
      "text/plain": [
       "982"
      ]
     },
     "execution_count": 11,
     "metadata": {},
     "output_type": "execute_result"
    }
   ],
   "source": [
    "# Number of char in text\n",
    "len(text[1])"
   ]
  },
  {
   "cell_type": "code",
   "execution_count": 12,
   "id": "776b3816",
   "metadata": {},
   "outputs": [
    {
     "data": {
      "text/plain": [
       "150"
      ]
     },
     "execution_count": 12,
     "metadata": {},
     "output_type": "execute_result"
    }
   ],
   "source": [
    "# Number of words in text\n",
    "w = len(text[1].split())\n",
    "w"
   ]
  },
  {
   "cell_type": "code",
   "execution_count": 31,
   "id": "ad2ddc1d",
   "metadata": {},
   "outputs": [
    {
     "data": {
      "text/plain": [
       "'For Women in Science International Awards National and regional programs For\\nGirls in Science Login The world needs Science, and Science needs Women\\nInternational Awards Created in 1998, the International Awards L\\'Oréal-UNESCO\\nFor Women in Science honours - every year - 5 eminent women scientists from 5\\nregions of the world. Alternating every other year, these exceptional\\nresearchers are rewarded for their important contributions to the progress of\\nscience, either in Life sciences or in the fields of Physical sciences,\\nMathematics and Computer science. An award of €100,000 is given to each of the\\nfive laureates selected by a jury of internationally renowned ex... Discover\\nthe program and participate For Girls in Science The L\\'Oréal Foundation is\\nlaunching a new version of its For Girls in Science program designed to\\nencourage high school girls, starting in the second year of high school, to\\nchoose scientific careers. The For Girls in Science program offers selected\\nhigh school girls the opportunity to join a support program throughout the\\nschool year, which includes participation in a scientific challenge, a\\nscientific trip and inspiring meetings, cultural outings and visits to\\ncompanies. Individual academic... Discover the program and participate\\nL\\'Oréal-UNESCO For Women in Science Women scientists are leading ground-\\nbreaking research across the world. But despite their remarkable discoveries,\\nwomen still represent just 33,3 %* of researchers globally, and their work\\nrarely gains the recognition it deserves. Less than 4 % of Nobel Prizes for\\nscience have ever been awarded to women, and only 11 %* of senior research\\nroles are held by women in Europe.As the world hurtles towards a future\\nthreatened by climate change and resource scarcity, the global scientific\\ncommunity must lose no time in recognising and promoting women scientists’\\nachievements.The Fondation L’Oréal and UNESCO have worked together for more\\nthan 20 years to help empower more women scientists to achieve scientific\\nexcellence and participate equally in solving the great challenges facing\\nhumanity.To date, we have awarded more than 100 laureates, five of whom have\\ngone on to win Nobel Prizes. Working in the Physical sciences, Formal sciences\\nand Life sciences on five different continents, these eminent women\\nresearchers are helping to change the world through their discoveries, and are\\nalso role models for younger generations of women researchers who want to\\npursue their scientific careers and break the glass ceiling.Each year, the\\nL\\'Oréal-UNESCO For Women in Science programmes also support more than 250\\ntalented young women researchers. Through its 52 regional and national\\nprogrammes, the Fondation L\\'Oréal and UNESCO support them at a crucial period\\nin their careers, during their thesis or post-doctoral studies.However, we\\nmust remember that there is still much more to be done to achieve true gender\\nequality in science. But we remain determined, and we are moving steadily\\ntowards making our vision a reality. One day, we will live in a world where\\ngirls are encouraged to study science, where women have adequate support to\\nbalance the responsibilities of research and motherhood, and where scientists\\nare judged purely on the merit of their discoveries and the potential of their\\nwork to change the world. *UNESCO Science Report: towards 2030 (2021) Key\\nfigures 3900 More than 3900 Alumnae around the world 500 scientific experts\\ninvolved in the selections worldwide 110 More than 110 countries covered by\\nour programs 52 national and regional programs worldwide L\\'Oréal-UNESCO For\\nWomen In Science _ \"Gender diversity leads to new and better quality science.\"\\nJEAN-PAUL AGON CHAIRMAN AND CHIEF EXECUTIVE OFFICER OF L\\'ORÉAL, CHAIRMAN OF\\nTHE FONDATION L\\'ORÉAL \"By advancing the cause of women, we can drive progress\\nin science.\" AUDREY AZOULAY GENERAL DIRECTOR OF THE UNITED NATIONS\\nEDUCATIONAL, SCIENTIFIC AND CULTURAL ORGANIZATION \"The work of our Young\\nTalents reflects the importance and vitality of scientific research.\"\\nALEXANDRA PALT EXECUTIVE VICE PRESIDENT OF THE FONDATION L’ORÉAL FAQ CGU\\nPolitique de confidentialité Cookies © 2022 Fondation l\\'Oreal. All rights\\nreserved. | Design by Yumana'"
      ]
     },
     "execution_count": 31,
     "metadata": {},
     "output_type": "execute_result"
    }
   ],
   "source": [
    "df.texts.iloc[0]"
   ]
  },
  {
   "cell_type": "code",
   "execution_count": 34,
   "id": "06249199",
   "metadata": {
    "scrolled": true
   },
   "outputs": [],
   "source": [
    "# Count number of words in text for each row in \n",
    "for i in range(0,29292):\n",
    "    number = len(df.texts.iloc[i].split())\n",
    "    word_num.append(number)\n"
   ]
  },
  {
   "cell_type": "code",
   "execution_count": 22,
   "id": "548dfa51",
   "metadata": {},
   "outputs": [
    {
     "data": {
      "text/html": [
       "<div>\n",
       "<style scoped>\n",
       "    .dataframe tbody tr th:only-of-type {\n",
       "        vertical-align: middle;\n",
       "    }\n",
       "\n",
       "    .dataframe tbody tr th {\n",
       "        vertical-align: top;\n",
       "    }\n",
       "\n",
       "    .dataframe thead th {\n",
       "        text-align: right;\n",
       "    }\n",
       "</style>\n",
       "<table border=\"1\" class=\"dataframe\">\n",
       "  <thead>\n",
       "    <tr style=\"text-align: right;\">\n",
       "      <th></th>\n",
       "      <th>url</th>\n",
       "      <th>texts</th>\n",
       "    </tr>\n",
       "  </thead>\n",
       "  <tbody>\n",
       "    <tr>\n",
       "      <th>29291</th>\n",
       "      <td>https://blog.feedspot.com/magazines_directory/...</td>\n",
       "      <td>Human Verification JavaScript is disabled In o...</td>\n",
       "    </tr>\n",
       "  </tbody>\n",
       "</table>\n",
       "</div>"
      ],
      "text/plain": [
       "                                                     url  \\\n",
       "29291  https://blog.feedspot.com/magazines_directory/...   \n",
       "\n",
       "                                                   texts  \n",
       "29291  Human Verification JavaScript is disabled In o...  "
      ]
     },
     "execution_count": 22,
     "metadata": {},
     "output_type": "execute_result"
    }
   ],
   "source": [
    "df.tail(1)"
   ]
  },
  {
   "cell_type": "code",
   "execution_count": 35,
   "id": "9c14a2b2",
   "metadata": {},
   "outputs": [
    {
     "data": {
      "text/plain": [
       "650"
      ]
     },
     "execution_count": 35,
     "metadata": {},
     "output_type": "execute_result"
    }
   ],
   "source": [
    "word_num[0]"
   ]
  },
  {
   "cell_type": "code",
   "execution_count": 36,
   "id": "68b1076a",
   "metadata": {},
   "outputs": [
    {
     "data": {
      "text/plain": [
       "35"
      ]
     },
     "execution_count": 36,
     "metadata": {},
     "output_type": "execute_result"
    }
   ],
   "source": [
    "word_num[-1]"
   ]
  },
  {
   "cell_type": "code",
   "execution_count": 38,
   "id": "7a469a91",
   "metadata": {},
   "outputs": [
    {
     "data": {
      "text/html": [
       "<div>\n",
       "<style scoped>\n",
       "    .dataframe tbody tr th:only-of-type {\n",
       "        vertical-align: middle;\n",
       "    }\n",
       "\n",
       "    .dataframe tbody tr th {\n",
       "        vertical-align: top;\n",
       "    }\n",
       "\n",
       "    .dataframe thead th {\n",
       "        text-align: right;\n",
       "    }\n",
       "</style>\n",
       "<table border=\"1\" class=\"dataframe\">\n",
       "  <thead>\n",
       "    <tr style=\"text-align: right;\">\n",
       "      <th></th>\n",
       "      <th>url</th>\n",
       "      <th>texts</th>\n",
       "      <th>word_num</th>\n",
       "    </tr>\n",
       "  </thead>\n",
       "  <tbody>\n",
       "    <tr>\n",
       "      <th>0</th>\n",
       "      <td>https://www.forwomeninscience.com/</td>\n",
       "      <td>For Women in Science International Awards Nati...</td>\n",
       "      <td>650</td>\n",
       "    </tr>\n",
       "    <tr>\n",
       "      <th>1</th>\n",
       "      <td>https://www.forwomeninscience.com/authority/in...</td>\n",
       "      <td>International Awards | For Women in Science In...</td>\n",
       "      <td>150</td>\n",
       "    </tr>\n",
       "    <tr>\n",
       "      <th>2</th>\n",
       "      <td>https://www.forwomeninscience.com/map/</td>\n",
       "      <td>National and regional programs | For Women in ...</td>\n",
       "      <td>169</td>\n",
       "    </tr>\n",
       "    <tr>\n",
       "      <th>3</th>\n",
       "      <td>https://www.forwomeninscience.com/authority/fo...</td>\n",
       "      <td>For Girls in Science | For Women in Science In...</td>\n",
       "      <td>200</td>\n",
       "    </tr>\n",
       "    <tr>\n",
       "      <th>4</th>\n",
       "      <td>https://www.forwomeninscience.com/login</td>\n",
       "      <td>For Women in Science International Awards Nati...</td>\n",
       "      <td>95</td>\n",
       "    </tr>\n",
       "  </tbody>\n",
       "</table>\n",
       "</div>"
      ],
      "text/plain": [
       "                                                 url  \\\n",
       "0                 https://www.forwomeninscience.com/   \n",
       "1  https://www.forwomeninscience.com/authority/in...   \n",
       "2             https://www.forwomeninscience.com/map/   \n",
       "3  https://www.forwomeninscience.com/authority/fo...   \n",
       "4            https://www.forwomeninscience.com/login   \n",
       "\n",
       "                                               texts  word_num  \n",
       "0  For Women in Science International Awards Nati...       650  \n",
       "1  International Awards | For Women in Science In...       150  \n",
       "2  National and regional programs | For Women in ...       169  \n",
       "3  For Girls in Science | For Women in Science In...       200  \n",
       "4  For Women in Science International Awards Nati...        95  "
      ]
     },
     "execution_count": 38,
     "metadata": {},
     "output_type": "execute_result"
    }
   ],
   "source": [
    "# Add word_num to DataFrame and show last update\n",
    "df['word_num']=word_num\n",
    "df.head()"
   ]
  },
  {
   "cell_type": "code",
   "execution_count": 58,
   "id": "34e3d3c9",
   "metadata": {},
   "outputs": [
    {
     "name": "stderr",
     "output_type": "stream",
     "text": [
      "C:\\Users\\Sherif\\anaconda3\\lib\\site-packages\\xlsxwriter\\worksheet.py:1136: UserWarning: Ignoring URL since it exceeds Excel's string limit of 32767 characters\n",
      "  warn(\"Ignoring URL since it exceeds Excel's string limit of \"\n"
     ]
    }
   ],
   "source": [
    "# Save data in Excel sheet \n",
    "df.to_excel('data.xlsx')"
   ]
  },
  {
   "cell_type": "code",
   "execution_count": null,
   "id": "3a11ee6b",
   "metadata": {},
   "outputs": [],
   "source": []
  }
 ],
 "metadata": {
  "kernelspec": {
   "display_name": "Python 3 (ipykernel)",
   "language": "python",
   "name": "python3"
  },
  "language_info": {
   "codemirror_mode": {
    "name": "ipython",
    "version": 3
   },
   "file_extension": ".py",
   "mimetype": "text/x-python",
   "name": "python",
   "nbconvert_exporter": "python",
   "pygments_lexer": "ipython3",
   "version": "3.9.12"
  }
 },
 "nbformat": 4,
 "nbformat_minor": 5
}
